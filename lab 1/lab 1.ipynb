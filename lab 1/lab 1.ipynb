{
 "cells": [
  {
   "cell_type": "code",
   "execution_count": 1,
   "metadata": {},
   "outputs": [],
   "source": [
    "import numpy as np\n",
    "import matplotlib.pyplot as plt\n",
    "import seaborn as sns\n",
    "import scipy.stats as st"
   ]
  },
  {
   "cell_type": "code",
   "execution_count": 2,
   "metadata": {},
   "outputs": [
    {
     "data": {
      "text/plain": [
       "array([20, 26, 32, 34, 26, 28, 22, 30, 17, 24, 30, 28, 18, 22, 24, 26, 34,\n",
       "       28, 22, 20, 34, 24, 28, 20, 32, 17, 22, 24, 26, 30, 30, 22, 26, 35,\n",
       "       28, 24, 30, 32, 28, 18, 20, 30, 17, 24, 32, 28, 22, 26, 24, 30, 34,\n",
       "       26, 24, 28, 22, 30, 35, 32, 20, 17, 28, 22, 36, 30, 20, 26, 28, 23,\n",
       "       24, 32, 20, 26, 30, 24, 32, 17, 22, 28, 35, 26, 28, 35, 32, 22, 26,\n",
       "       24, 26, 24, 30, 24, 18, 24, 26, 28, 35, 30, 26, 22, 26, 28])"
      ]
     },
     "execution_count": 2,
     "metadata": {},
     "output_type": "execute_result"
    }
   ],
   "source": [
    "stat = np.fromfile(\"sample.txt\", dtype=int, sep=' ')\n",
    "stat"
   ]
  },
  {
   "cell_type": "code",
   "execution_count": 3,
   "metadata": {
    "scrolled": true
   },
   "outputs": [
    {
     "name": "stderr",
     "output_type": "stream",
     "text": [
      "c:\\program files (x86)\\python37-32\\lib\\site-packages\\scipy\\stats\\stats.py:1713: FutureWarning: Using a non-tuple sequence for multidimensional indexing is deprecated; use `arr[tuple(seq)]` instead of `arr[seq]`. In the future this will be interpreted as an array index, `arr[np.array(seq)]`, which will result either in an error or a different result.\n",
      "  return np.add.reduce(sorted[indexer] * weights, axis=axis) / sumval\n"
     ]
    },
    {
     "data": {
      "image/png": "[encoded data removed]",
      "text/plain": [
       "<Figure size 432x288 with 1 Axes>"
      ]
     },
     "metadata": {
      "needs_background": "light"
     },
     "output_type": "display_data"
    }
   ],
   "source": [
    "sns.distplot(stat, hist=True, kde=True, bins=10)\n",
    "plt.show()"
   ]
  },
  {
   "cell_type": "code",
   "execution_count": 4,
   "metadata": {},
   "outputs": [
    {
     "name": "stderr",
     "output_type": "stream",
     "text": [
      "c:\\program files (x86)\\python37-32\\lib\\site-packages\\matplotlib\\axes\\_axes.py:6499: MatplotlibDeprecationWarning: \n",
      "The 'normed' kwarg was deprecated in Matplotlib 2.1 and will be removed in 3.1. Use 'density' instead.\n",
      "  alternative=\"'density'\", removal=\"3.1\")\n"
     ]
    },
    {
     "data": {
      "image/png": "[encoded data removed]",
      "text/plain": [
       "<Figure size 432x288 with 1 Axes>"
      ]
     },
     "metadata": {
      "needs_background": "light"
     },
     "output_type": "display_data"
    }
   ],
   "source": [
    "plt.hist(stat, 100, normed=1, histtype='step', cumulative=True)\n",
    "plt.show()"
   ]
  },
  {
   "cell_type": "code",
   "execution_count": 5,
   "metadata": {},
   "outputs": [
    {
     "data": {
      "text/plain": [
       "'Минимум: 17, максимум: 36'"
      ]
     },
     "execution_count": 5,
     "metadata": {},
     "output_type": "execute_result"
    }
   ],
   "source": [
    "\"Минимум: {}, максимум: {}\".format(stat.min(), stat.max())"
   ]
  },
  {
   "cell_type": "code",
   "execution_count": 6,
   "metadata": {},
   "outputs": [
    {
     "data": {
      "text/plain": [
       "('Среднее:', 26.25)"
      ]
     },
     "execution_count": 6,
     "metadata": {},
     "output_type": "execute_result"
    }
   ],
   "source": [
    "\"Среднее:\", np.mean(stat)"
   ]
  },
  {
   "cell_type": "code",
   "execution_count": 7,
   "metadata": {},
   "outputs": [
    {
     "data": {
      "text/plain": [
       "('Дисперсия:', 23.8075)"
      ]
     },
     "execution_count": 7,
     "metadata": {},
     "output_type": "execute_result"
    }
   ],
   "source": [
    "\"Дисперсия:\", np.var(stat)"
   ]
  },
  {
   "cell_type": "code",
   "execution_count": 8,
   "metadata": {},
   "outputs": [
    {
     "data": {
      "text/plain": [
       "('Стандартное отклонение:', 4.903873958206899)"
      ]
     },
     "execution_count": 8,
     "metadata": {},
     "output_type": "execute_result"
    }
   ],
   "source": [
    "def stdev(arr):\n",
    "    \"\"\"Стандартное отклонение\"\"\"\n",
    "    mean = np.mean(arr)\n",
    "    return np.sqrt(sum([(x - mean)**2 for x in arr]) / (len(arr)-1))\n",
    "\n",
    "\"Стандартное отклонение:\", stdev(stat)"
   ]
  },
  {
   "cell_type": "code",
   "execution_count": 9,
   "metadata": {},
   "outputs": [
    {
     "data": {
      "text/plain": [
       "('Стандртная ошибка:', 0.49038739582068985)"
      ]
     },
     "execution_count": 9,
     "metadata": {},
     "output_type": "execute_result"
    }
   ],
   "source": [
    "def sem(arr):\n",
    "    \"\"\"Стандартная ошибка\"\"\"\n",
    "    return stdev(arr) / np.sqrt(len(arr))\n",
    "\n",
    "\"Стандртная ошибка:\", sem(stat)"
   ]
  },
  {
   "cell_type": "code",
   "execution_count": 10,
   "metadata": {},
   "outputs": [
    {
     "data": {
      "text/plain": [
       "('Мода:', ModeResult(mode=array([26]), count=array([15])))"
      ]
     },
     "execution_count": 10,
     "metadata": {},
     "output_type": "execute_result"
    }
   ],
   "source": [
    "\"Мода:\", st.mode(stat)"
   ]
  },
  {
   "cell_type": "code",
   "execution_count": 11,
   "metadata": {},
   "outputs": [
    {
     "data": {
      "text/plain": [
       "('Медиана:', 26.0)"
      ]
     },
     "execution_count": 11,
     "metadata": {},
     "output_type": "execute_result"
    }
   ],
   "source": [
    "\"Медиана:\", np.median(stat)"
   ]
  },
  {
   "cell_type": "code",
   "execution_count": 12,
   "metadata": {},
   "outputs": [
    {
     "data": {
      "text/plain": [
       "('Квартили:', (22.0, 26.0, 30.0))"
      ]
     },
     "execution_count": 12,
     "metadata": {},
     "output_type": "execute_result"
    }
   ],
   "source": [
    "def quartil(arr):\n",
    "    \"\"\"квартили\"\"\"\n",
    "    q1, q2, q3 = 0, 0, 0\n",
    "    arr = sorted(arr)\n",
    "    q2 = np.median(arr)\n",
    "    mid = int(np.floor(len(arr)/2))\n",
    "    if len(arr) % 2 == 0:\n",
    "        q1 = np.median(arr[:mid + 1])\n",
    "        q3 = np.median(arr[mid:])\n",
    "    else:\n",
    "        q1 = np.median(arr[:mid])\n",
    "        q3 = np.median(arr[mid + 1:])\n",
    "\n",
    "    return q1, q2, q3\n",
    "\n",
    "\"Квартили:\", quartil(stat)"
   ]
  },
  {
   "cell_type": "code",
   "execution_count": 13,
   "metadata": {},
   "outputs": [
    {
     "data": {
      "image/png": "[encoded data removed]",
      "text/plain": [
       "<Figure size 432x288 with 1 Axes>"
      ]
     },
     "metadata": {
      "needs_background": "light"
     },
     "output_type": "display_data"
    }
   ],
   "source": [
    "# ящик с усами\n",
    "sns.boxplot(stat)\n",
    "plt.show()"
   ]
  },
  {
   "cell_type": "code",
   "execution_count": 14,
   "metadata": {},
   "outputs": [
    {
     "data": {
      "text/plain": [
       "('Эксцесс:', -0.7647110290930956)"
      ]
     },
     "execution_count": 14,
     "metadata": {},
     "output_type": "execute_result"
    }
   ],
   "source": [
    "def kurtosis(arr):\n",
    "    \"\"\"эксцесс\"\"\"\n",
    "    return sum((arr - np.mean(arr))**4) / len(arr) / stdev(stat)**4 - 3\n",
    "\n",
    "\"Эксцесс:\", kurtosis(stat)"
   ]
  },
  {
   "cell_type": "code",
   "execution_count": 15,
   "metadata": {},
   "outputs": [
    {
     "data": {
      "text/plain": [
       "('Асимметрия:', -0.0018761406000148688)"
      ]
     },
     "execution_count": 15,
     "metadata": {},
     "output_type": "execute_result"
    }
   ],
   "source": [
    "def assimetria(arr):\n",
    "    return sum((arr - np.mean(arr))**3) / len(arr) / stdev(stat)**3\n",
    "\n",
    "\"Асимметрия:\", assimetria(stat)"
   ]
  },
  {
   "cell_type": "code",
   "execution_count": 17,
   "metadata": {},
   "outputs": [
    {
     "data": {
      "text/plain": [
       "'Доверительные интервалы для мат. ожидания: (25.288840704191447, 27.211159295808553) и среднего квадратичного отклонения: (4.305634904303432, 5.696709032332643):'"
      ]
     },
     "execution_count": 17,
     "metadata": {},
     "output_type": "execute_result"
    }
   ],
   "source": [
    "def confidence_interval(arr, y):\n",
    "    \"\"\"Доверительные интервалы при надежности y\"\"\"\n",
    "    # для математического ожидания\n",
    "    t = 1.96  \n",
    "    e = t * sem(arr)\n",
    "    mean_interval = (np.mean(arr) - e, np.mean(arr) + e)\n",
    "\n",
    "    # для среднего квадратичного отклонения\n",
    "    # Для количества степеней свободы k = 99 и p = (1-0.95)/2 = 0.025\n",
    "    X2 = st.chi2.isf(q=(1-y)/2, df=len(arr) - 1)  \n",
    "    tH = (len(arr) - 1) * np.var(arr, ddof=1) / X2\n",
    "    \n",
    "    # Для количества степеней свободы k = 99 и p = (1+0.95)/2 = 0.975\n",
    "    X2 = st.chi2.isf(q=(1+y)/2, df=len(arr) - 1)  \n",
    "    tB = (len(arr) - 1) * np.var(arr, ddof=1) / X2\n",
    "    std_interval = (np.sqrt(tH), np.sqrt(tB))\n",
    "\n",
    "    return mean_interval, std_interval\n",
    "\n",
    "intervals = confidence_interval(stat, 0.95)\n",
    "\"Доверительные интервалы для мат. ожидания: {} и среднего квадратичного отклонения: {}:\".format(intervals[0], intervals[1])"
   ]
  },
  {
   "cell_type": "code",
   "execution_count": 24,
   "metadata": {},
   "outputs": [
    {
     "data": {
      "text/plain": [
       "'Пирсон: теория подтверждена False, chi2 = 13.196997543448576, chi2_crit = 11.143286781877796'"
      ]
     },
     "execution_count": 24,
     "metadata": {},
     "output_type": "execute_result"
    }
   ],
   "source": [
    "def laplass(x):\n",
    "    return st.norm.cdf(x) - 0.5\n",
    "\n",
    "def pirson(arr, a, k):\n",
    "    \"\"\"\n",
    "    Вычисляет хи-квадрат для заданной выборке\n",
    "    :param arr: массив чисел - выборка\n",
    "    :param a: уровень значимости\n",
    "    :param k: количество интервалов разбиения\n",
    "    :return: True, если совокупность подчиняется нормальному закону, иначе False.\n",
    "    Также возвращает вычисленное значение хи-квадрат.\n",
    "    \"\"\"\n",
    "\n",
    "    _min = np.min(arr)\n",
    "    _max = np.max(arr)\n",
    "    h = (_max - _min) / k\n",
    "\n",
    "    x = _min\n",
    "    k_intervals = {}\n",
    "    while x < _max:\n",
    "        xi = np.round(x + h, 3)\n",
    "        k_intervals[(x, xi)] = {'ni': 0}\n",
    "        x = xi\n",
    "\n",
    "    for x in arr:\n",
    "        for interval in k_intervals:\n",
    "            if interval[0] <= x <= interval[1]:\n",
    "                k_intervals[interval]['ni'] += 1\n",
    "                break\n",
    "\n",
    "    mean = np.mean(arr)\n",
    "    std = stdev(arr)\n",
    "    chisquare = 0\n",
    "    chi_crit = st.chi2.isf(q=a, df=k - 2 - 1)\n",
    "\n",
    "    for interval in k_intervals:\n",
    "        x1 = (interval[0] - mean) / std\n",
    "        x2 = (interval[1] - mean) / std\n",
    "        k_intervals[interval][\"pi\"] = laplass(x2) - laplass(x1)\n",
    "        chisquare += ((k_intervals[interval]['ni'] - len(arr) * k_intervals[interval][\"pi\"]) ** 2) / \\\n",
    "                     (len(arr) * k_intervals[interval][\"pi\"])\n",
    "\n",
    "    if chisquare > chi_crit:\n",
    "        return False, chisquare, chi_crit\n",
    "    else:\n",
    "        return True, chisquare, chi_crit\n",
    "    \n",
    "\"Пирсон: теория подтверждена {0}, chi2 = {1}, chi2_crit = {2}\".format(*pirson(stat, a=0.025, k=7))"
   ]
  },
  {
   "cell_type": "code",
   "execution_count": null,
   "metadata": {},
   "outputs": [],
   "source": []
  }
 ],
 "metadata": {
  "kernelspec": {
   "display_name": "Python 3",
   "language": "python",
   "name": "python3"
  },
  "language_info": {
   "codemirror_mode": {
    "name": "ipython",
    "version": 3
   },
   "file_extension": ".py",
   "mimetype": "text/x-python",
   "name": "python",
   "nbconvert_exporter": "python",
   "pygments_lexer": "ipython3",
   "version": "3.7.0"
  }
 },
 "nbformat": 4,
 "nbformat_minor": 1
}
