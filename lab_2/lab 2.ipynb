{
 "cells": [
  {
   "cell_type": "code",
   "execution_count": 9,
   "metadata": {},
   "outputs": [],
   "source": [
    "import numpy as np\n",
    "import random\n",
    "import matplotlib.pyplot as plt\n",
    "random.seed(2019)"
   ]
  },
  {
   "cell_type": "code",
   "execution_count": 10,
   "metadata": {},
   "outputs": [],
   "source": [
    "def get_random_norm_vector(n):\n",
    "    \"\"\"Возвращает нормированный вектор длины n\"\"\"\n",
    "    a = []\n",
    "    norm_sum = 1.0\n",
    "    for i in range(n - 1):\n",
    "        x = random.triangular(0, norm_sum)\n",
    "        norm_sum -= x\n",
    "        a.append(x)\n",
    "    a.append(norm_sum)\n",
    "    a = np.array(a)\n",
    "    np.random.shuffle(a)\n",
    "    return a\n",
    "\n",
    "\n",
    "def get_random_transition_matrix(n):\n",
    "    \"\"\"Возвращает квадратную матрицу размерности n, состояющую из нормированных векторов\"\"\"\n",
    "    g = []\n",
    "    for i in range(n):\n",
    "        g.append(get_random_norm_vector(n))\n",
    "    return np.array(g)\n",
    "\n",
    "\n",
    "def vector_stdev(va, vb):\n",
    "    \"\"\"Среднеквадратическое отклонение между векторами\"\"\"\n",
    "    return np.sqrt(sum((b - a)**2 for b, a in zip(vb, va)))\n",
    "\n",
    "\n",
    "def limit_dist_by_computing(transition_matrix, stationary_dist, eps=1e-5):\n",
    "    \"\"\"Численное нахождение стационарного состояния\"\"\"\n",
    "    m_stationary_dist = stationary_dist ** 2\n",
    "    stdev = vector_stdev(stationary_dist, m_stationary_dist)\n",
    "    std_arr = []\n",
    "    m = 0\n",
    "    while stdev > eps:\n",
    "        m_stationary_dist = stationary_dist @ transition_matrix\n",
    "        m += 1\n",
    "        stdev = vector_stdev(stationary_dist, m_stationary_dist)\n",
    "        std_arr.append(stdev)\n",
    "        stationary_dist = m_stationary_dist\n",
    "    return stationary_dist, m, np.array(std_arr)\n",
    "\n",
    "\n",
    "def limit_dist_by_analytic(transition_matrix):\n",
    "    \"\"\"Аналитическое нахождение стационарного состояния\"\"\"\n",
    "    A = (transition_matrix - np.eye(n)).transpose()\n",
    "    probability_dist = np.ones((1, n))\n",
    "\n",
    "    A = np.vstack((A, probability_dist))\n",
    "    B = np.zeros(n + 1)\n",
    "    B[-1] = 1\n",
    "\n",
    "    p = np.linalg.lstsq(A, B, rcond=1)[0]\n",
    "    return p"
   ]
  },
  {
   "cell_type": "code",
   "execution_count": 12,
   "metadata": {},
   "outputs": [
    {
     "data": {
      "text/plain": [
       "array([[0.005, 0.195, 0.007, 0.078, 0.001, 0.   , 0.004, 0.71 ],\n",
       "       [0.052, 0.125, 0.816, 0.   , 0.   , 0.   , 0.001, 0.005],\n",
       "       [0.004, 0.117, 0.026, 0.006, 0.008, 0.027, 0.743, 0.067],\n",
       "       [0.002, 0.056, 0.01 , 0.163, 0.733, 0.011, 0.012, 0.013],\n",
       "       [0.024, 0.169, 0.305, 0.007, 0.01 , 0.011, 0.104, 0.371],\n",
       "       [0.105, 0.017, 0.006, 0.557, 0.019, 0.004, 0.17 , 0.122],\n",
       "       [0.103, 0.078, 0.659, 0.04 , 0.038, 0.049, 0.022, 0.012],\n",
       "       [0.008, 0.004, 0.103, 0.021, 0.003, 0.006, 0.007, 0.849]])"
      ]
     },
     "execution_count": 12,
     "metadata": {},
     "output_type": "execute_result"
    }
   ],
   "source": [
    "n = 8\n",
    "Markov_matrix = get_random_transition_matrix(n)\n",
    "np.around(Markov_matrix, 3)"
   ]
  },
  {
   "cell_type": "code",
   "execution_count": 13,
   "metadata": {},
   "outputs": [
    {
     "data": {
      "text/plain": [
       "array([0.03 , 0.003, 0.064, 0.004, 0.011, 0.   , 0.09 , 0.797])"
      ]
     },
     "execution_count": 13,
     "metadata": {},
     "output_type": "execute_result"
    }
   ],
   "source": [
    "start_dist_1 = get_random_norm_vector(n)\n",
    "np.around(start_dist_1, 3)"
   ]
  },
  {
   "cell_type": "code",
   "execution_count": 14,
   "metadata": {},
   "outputs": [
    {
     "data": {
      "text/plain": [
       "(array([0.031, 0.068, 0.239, 0.036, 0.038, 0.019, 0.192, 0.377]), 36)"
      ]
     },
     "execution_count": 14,
     "metadata": {},
     "output_type": "execute_result"
    }
   ],
   "source": [
    "finish_dist_1, m, stdarr = limit_dist_by_computing(Markov_matrix, start_dist_1)\n",
    "np.around(finish_dist_1, 3), m"
   ]
  },
  {
   "cell_type": "code",
   "execution_count": 15,
   "metadata": {},
   "outputs": [
    {
     "data": {
      "text/plain": [
       "array([0.047, 0.006, 0.021, 0.107, 0.011, 0.016, 0.436, 0.355])"
      ]
     },
     "execution_count": 15,
     "metadata": {},
     "output_type": "execute_result"
    }
   ],
   "source": [
    "start_dist_2 = get_random_norm_vector(n)\n",
    "np.around(start_dist_2, 3)"
   ]
  },
  {
   "cell_type": "code",
   "execution_count": 17,
   "metadata": {},
   "outputs": [
    {
     "data": {
      "text/plain": [
       "(array([0.031, 0.068, 0.239, 0.036, 0.038, 0.019, 0.192, 0.377]), 33)"
      ]
     },
     "execution_count": 17,
     "metadata": {},
     "output_type": "execute_result"
    }
   ],
   "source": [
    "finish_dist_2, m, stdarr2 = limit_dist_by_computing(Markov_matrix, start_dist_2)\n",
    "np.around(finish_dist_2, 3), m"
   ]
  },
  {
   "cell_type": "code",
   "execution_count": 18,
   "metadata": {},
   "outputs": [
    {
     "data": {
      "image/png": "[encoded data removed]",
      "text/plain": [
       "<Figure size 864x288 with 2 Axes>"
      ]
     },
     "metadata": {
      "needs_background": "light"
     },
     "output_type": "display_data"
    }
   ],
   "source": [
    "fig, (ax1, ax2) = plt.subplots(1, 2, figsize=(12, 4))\n",
    "fig.suptitle('Изменение среднеквадратического отклонения', fontsize=16)\n",
    "ax1.plot(np.arange(0, len(stdarr)), stdarr)\n",
    "ax2.plot(np.arange(0, len(stdarr)), stdarr2)\n",
    "plt.show()"
   ]
  },
  {
   "cell_type": "code",
   "execution_count": 20,
   "metadata": {},
   "outputs": [
    {
     "data": {
      "text/plain": [
       "array([[0.031, 0.068, 0.239, 0.036, 0.038, 0.019, 0.192, 0.377],\n",
       "       [0.031, 0.068, 0.24 , 0.036, 0.038, 0.019, 0.192, 0.377],\n",
       "       [0.031, 0.068, 0.24 , 0.036, 0.038, 0.019, 0.192, 0.377],\n",
       "       [0.031, 0.068, 0.239, 0.036, 0.038, 0.019, 0.192, 0.377],\n",
       "       [0.031, 0.068, 0.239, 0.036, 0.038, 0.019, 0.192, 0.377],\n",
       "       [0.031, 0.068, 0.239, 0.036, 0.038, 0.019, 0.192, 0.377],\n",
       "       [0.031, 0.068, 0.24 , 0.036, 0.038, 0.019, 0.192, 0.377],\n",
       "       [0.031, 0.068, 0.239, 0.036, 0.038, 0.019, 0.192, 0.377]])"
      ]
     },
     "execution_count": 20,
     "metadata": {},
     "output_type": "execute_result"
    }
   ],
   "source": [
    "np.around(np.linalg.matrix_power(Markov_matrix, 36), 3)"
   ]
  },
  {
   "cell_type": "code",
   "execution_count": 21,
   "metadata": {},
   "outputs": [
    {
     "data": {
      "text/plain": [
       "array([0.031, 0.068, 0.239, 0.036, 0.038, 0.019, 0.192, 0.377])"
      ]
     },
     "execution_count": 21,
     "metadata": {},
     "output_type": "execute_result"
    }
   ],
   "source": [
    "np.around(limit_dist_by_analytic(Markov_matrix), 3)"
   ]
  },
  {
   "cell_type": "code",
   "execution_count": null,
   "metadata": {},
   "outputs": [],
   "source": []
  }
 ],
 "metadata": {
  "kernelspec": {
   "display_name": "Python 3",
   "language": "python",
   "name": "python3"
  },
  "language_info": {
   "codemirror_mode": {
    "name": "ipython",
    "version": 3
   },
   "file_extension": ".py",
   "mimetype": "text/x-python",
   "name": "python",
   "nbconvert_exporter": "python",
   "pygments_lexer": "ipython3",
   "version": "3.7.2"
  }
 },
 "nbformat": 4,
 "nbformat_minor": 1
}
