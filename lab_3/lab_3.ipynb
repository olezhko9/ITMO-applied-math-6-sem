{
 "cells": [
  {
   "cell_type": "code",
   "execution_count": 1,
   "metadata": {},
   "outputs": [],
   "source": [
    "import numpy as np\n",
    "import matplotlib.pyplot as plt\n",
    "\n",
    "np.set_printoptions(precision=5, suppress=True)"
   ]
  },
  {
   "cell_type": "code",
   "execution_count": 2,
   "metadata": {},
   "outputs": [],
   "source": [
    "# вариант 4\n",
    "p = {\n",
    "    'lambda': 7.92,     # Интенсивность входящего потока заявок\n",
    "    'nu': 3.6,          # Интенсивность обслуживания заявки\n",
    "    'r': 3,             # Количество каналов\n",
    "    'm': 1              # Возможная длина очереди\n",
    "}"
   ]
  },
  {
   "cell_type": "markdown",
   "metadata": {},
   "source": [
    "Граф состояний процесса\n",
    "![Граф состояний](graph.png \"Граф состояний\")\n",
    "<p>S0 - нет бревен, все машины свободны</p>\n",
    "<p>S1 - в системе 1 бревно, 1 машина занята, 0 бревен в очереди</p>\n",
    "<p>S2 - в системе 2 бревна, 2 машины заняты, 0 бревен в очереди</p>\n",
    "<p>S3 - в системе 3 бревна, 3 машины заняты, 0 бревен в очереди</p>\n",
    "<p>S4 - в системе 4 бревна, 3 машины заняты, 1 бревно в очереди</p>"
   ]
  },
  {
   "cell_type": "code",
   "execution_count": 3,
   "metadata": {},
   "outputs": [
    {
     "data": {
      "text/plain": [
       "array([[ -7.92,   3.6 ,   0.  ,   0.  ,   0.  ],\n",
       "       [  7.92, -11.52,   7.2 ,   0.  ,   0.  ],\n",
       "       [  0.  ,   7.92, -15.12,  10.8 ,   0.  ],\n",
       "       [  0.  ,   0.  ,   7.92, -18.72,  10.8 ],\n",
       "       [  0.  ,   0.  ,   0.  ,   7.92, -10.8 ]])"
      ]
     },
     "execution_count": 3,
     "metadata": {},
     "output_type": "execute_result"
    }
   ],
   "source": [
    "transition_matrix = np.array([\n",
    "    np.array([-p['lambda'], p['nu'], 0, 0, 0]),\n",
    "    np.array([p['lambda'], -(p['nu']+p['lambda']), 2*p['nu'], 0, 0]),\n",
    "    np.array([0, p['lambda'], -(2*p['nu']+p['lambda']), 3*p['nu'], 0]),\n",
    "    np.array([0, 0, p['lambda'], -(3*p['nu']+p['lambda']), 3*p['nu']]),\n",
    "    np.array([0, 0, 0, p['lambda'], -3*p['nu']])\n",
    "])\n",
    "\n",
    "transition_matrix"
   ]
  },
  {
   "cell_type": "code",
   "execution_count": 4,
   "metadata": {},
   "outputs": [],
   "source": [
    "def solve_stationary_probability(transition_matrix):\n",
    "    n = len(transition_matrix)\n",
    "    A = transition_matrix\n",
    "    probability_dist = np.ones((1, n))\n",
    "\n",
    "    A = np.vstack((A, probability_dist))\n",
    "    B = np.zeros(n + 1)\n",
    "    B[-1] = 1\n",
    "\n",
    "    p = np.linalg.lstsq(A, B, rcond=1)[0]\n",
    "    return p"
   ]
  },
  {
   "cell_type": "code",
   "execution_count": 5,
   "metadata": {},
   "outputs": [
    {
     "data": {
      "text/plain": [
       "('Стационарные вероятности: ',\n",
       " array([0.11499, 0.25299, 0.27829, 0.20408, 0.14966]))"
      ]
     },
     "execution_count": 5,
     "metadata": {},
     "output_type": "execute_result"
    }
   ],
   "source": [
    "stationary = solve_stationary_probability(transition_matrix)\n",
    "\"Стационарные вероятности: \", stationary"
   ]
  },
  {
   "cell_type": "code",
   "execution_count": 6,
   "metadata": {},
   "outputs": [],
   "source": [
    "def average_machines(stationary_prob):\n",
    "    parts = []\n",
    "    for i in range(p['r']):\n",
    "        parts.append([stationary_prob[i]])\n",
    "    parts.append(stationary_prob[-(len(stationary_prob) - p['r']):])\n",
    "\n",
    "    working_mean = sum([sum(a) * idx for idx, a in enumerate(parts)])\n",
    "\n",
    "    parts = parts[::-1]\n",
    "    not_working_mean = sum([sum(a) * idx for idx, a in enumerate(parts)])\n",
    "\n",
    "    return working_mean, not_working_mean"
   ]
  },
  {
   "cell_type": "code",
   "execution_count": 7,
   "metadata": {},
   "outputs": [
    {
     "data": {
      "text/plain": [
       "'Среднее число работающих и простаивающих машин: 1.87 и 1.13: '"
      ]
     },
     "execution_count": 7,
     "metadata": {},
     "output_type": "execute_result"
    }
   ],
   "source": [
    "working, not_working = average_machines(stationary)\n",
    "\"Среднее число работающих и простаивающих машин: %.2f и %.2f: \" % (working, not_working)"
   ]
  },
  {
   "cell_type": "code",
   "execution_count": 8,
   "metadata": {
    "scrolled": true
   },
   "outputs": [],
   "source": [
    "work_coef = working / p['r']\n",
    "idle_coef = not_working / p['r']"
   ]
  },
  {
   "cell_type": "code",
   "execution_count": 9,
   "metadata": {},
   "outputs": [
    {
     "data": {
      "text/plain": [
       "'Коэффициент загрузки: 62.36'"
      ]
     },
     "execution_count": 9,
     "metadata": {},
     "output_type": "execute_result"
    }
   ],
   "source": [
    "\"Коэффициент загрузки: %.2f\" % (work_coef * 100)"
   ]
  },
  {
   "cell_type": "code",
   "execution_count": 10,
   "metadata": {},
   "outputs": [
    {
     "data": {
      "text/plain": [
       "'Коэффициент простаивания: 37.64'"
      ]
     },
     "execution_count": 10,
     "metadata": {},
     "output_type": "execute_result"
    }
   ],
   "source": [
    "\"Коэффициент простаивания: %.2f\" % (idle_coef * 100)"
   ]
  },
  {
   "cell_type": "code",
   "execution_count": 11,
   "metadata": {},
   "outputs": [
    {
     "data": {
      "text/plain": [
       "'Среднее число бревен в очереди: 0.15'"
      ]
     },
     "execution_count": 11,
     "metadata": {},
     "output_type": "execute_result"
    }
   ],
   "source": [
    "def average_timbers(stationary_prob):\n",
    "    parts = [stationary_prob[:len(stationary_prob) - p['m']]]\n",
    "    for prob in stationary_prob[len(stationary_prob) - p['m']:]:\n",
    "        parts.append([prob])\n",
    "    timbers_mean = sum([sum(a) * idx for idx, a in enumerate(parts)])\n",
    "    return timbers_mean\n",
    "\n",
    "\"Среднее число бревен в очереди: %.2f\" % average_timbers(stationary)"
   ]
  },
  {
   "cell_type": "code",
   "execution_count": 12,
   "metadata": {},
   "outputs": [],
   "source": [
    "def vector_stdev(va, vb):\n",
    "    return np.sqrt(sum((b - a)**2 for b, a in zip(vb, va)))"
   ]
  },
  {
   "cell_type": "code",
   "execution_count": 13,
   "metadata": {},
   "outputs": [],
   "source": [
    "def euler_method(transition_matrix, start_condition, stationary_prob):\n",
    "    current_t = 0.0\n",
    "    h = 0.02\n",
    "    steps = [start_condition, ]\n",
    "\n",
    "    while vector_stdev(stationary_prob, steps[-1]) > 1e-3:\n",
    "        line = []\n",
    "        for i in range(len(start_condition)):\n",
    "            line.append(steps[-1][i] + h * sum([x * steps[-1][j] for j, x in enumerate(transition_matrix[i])]))\n",
    "        steps.append(line)\n",
    "        current_t += h\n",
    "\n",
    "    return np.array(steps)\n",
    "\n",
    "start_cond = np.array([1, 0, 0, 0, 0])\n",
    "euler_steps = euler_method(transition_matrix, start_cond, stationary)"
   ]
  },
  {
   "cell_type": "markdown",
   "metadata": {},
   "source": [
    "Изменение вероятностей со временем"
   ]
  },
  {
   "cell_type": "code",
   "execution_count": 14,
   "metadata": {},
   "outputs": [
    {
     "data": {
      "text/plain": [
       "array([[1.     , 0.     , 0.     , 0.     , 0.     ],\n",
       "       [0.8416 , 0.1584 , 0.     , 0.     , 0.     ],\n",
       "       [0.7197 , 0.25521, 0.02509, 0.     , 0.     ],\n",
       "       [0.62407, 0.31403, 0.05793, 0.00397, 0.     ],\n",
       "       [0.54783, 0.34887, 0.09101, 0.01166, 0.00063],\n",
       "       [0.48617, 0.36837, 0.12127, 0.02185, 0.00234],\n",
       "       [0.43568, 0.37797, 0.14767, 0.03338, 0.0053 ],\n",
       "       [0.39389, 0.38116, 0.17009, 0.04542, 0.00944],\n",
       "       [0.35894, 0.38023, 0.18884, 0.0574 , 0.0146 ],\n",
       "       [0.32946, 0.37667, 0.20436, 0.06897, 0.02053]])"
      ]
     },
     "execution_count": 14,
     "metadata": {},
     "output_type": "execute_result"
    }
   ],
   "source": [
    "euler_steps[:10]"
   ]
  },
  {
   "cell_type": "code",
   "execution_count": 15,
   "metadata": {},
   "outputs": [],
   "source": [
    "def non_stationary_plot(steps, labels):\n",
    "    xmin = 0\n",
    "    dx = 0.02\n",
    "    xmax = dx * len(steps)\n",
    "\n",
    "    xlist = np.arange(xmin, xmax, dx)\n",
    "    for i, ylist in enumerate(steps.T):\n",
    "        plt.plot(xlist, ylist, label=labels[i])\n",
    "\n",
    "    plt.gca().yaxis.grid(True)\n",
    "    plt.yticks([x for x in np.arange(0, 1, 0.1)])\n",
    "    plt.legend()\n",
    "    plt.show()"
   ]
  },
  {
   "cell_type": "markdown",
   "metadata": {},
   "source": [
    "Вероятности состояний системы"
   ]
  },
  {
   "cell_type": "code",
   "execution_count": 16,
   "metadata": {},
   "outputs": [
    {
     "data": {
      "image/png": "[encoded data removed]",
      "text/plain": [
       "<Figure size 432x288 with 1 Axes>"
      ]
     },
     "metadata": {
      "needs_background": "light"
     },
     "output_type": "display_data"
    }
   ],
   "source": [
    "non_stationary_plot(euler_steps, labels=['p0(t)', 'p1(t)', 'p2(t)', 'p3(t)', 'p4(t)'])"
   ]
  },
  {
   "cell_type": "code",
   "execution_count": 17,
   "metadata": {},
   "outputs": [],
   "source": [
    "def non_stationary_coefs(steps):\n",
    "    coef_steps = []\n",
    "    i = 0\n",
    "\n",
    "    while i < len(steps):\n",
    "        coef_work = sum(k * steps[i][k] for k in range(0, p['r']))\n",
    "        coef_work += p['r'] * sum(steps[i][k] for k in range(p['r'], p['r'] + p['m'] + 1))\n",
    "        coef_work /= p['r']\n",
    "\n",
    "        coef_idle = sum(k * steps[i][p['r'] - k] for k in range(1, p['r'] + 1)) / p['r']\n",
    "\n",
    "        coef_steps.append([coef_work, coef_idle])\n",
    "        i += 1\n",
    "\n",
    "    return np.array(coef_steps)\n",
    "\n",
    "coefficients = non_stationary_coefs(euler_steps)"
   ]
  },
  {
   "cell_type": "markdown",
   "metadata": {},
   "source": [
    "Изменение коэффициентов со временем"
   ]
  },
  {
   "cell_type": "code",
   "execution_count": 18,
   "metadata": {},
   "outputs": [
    {
     "data": {
      "text/plain": [
       "array([[0.     , 1.     ],\n",
       "       [0.0528 , 0.9472 ],\n",
       "       [0.1018 , 0.8982 ],\n",
       "       [0.14727, 0.85273],\n",
       "       [0.18926, 0.81074],\n",
       "       [0.22783, 0.77217],\n",
       "       [0.26311, 0.73689],\n",
       "       [0.29531, 0.70469],\n",
       "       [0.32463, 0.67537],\n",
       "       [0.35131, 0.64869]])"
      ]
     },
     "execution_count": 18,
     "metadata": {},
     "output_type": "execute_result"
    }
   ],
   "source": [
    "coefficients[:10]"
   ]
  },
  {
   "cell_type": "markdown",
   "metadata": {},
   "source": [
    "Коэффициенты загрузки и простоя машин в цехе"
   ]
  },
  {
   "cell_type": "code",
   "execution_count": 19,
   "metadata": {},
   "outputs": [
    {
     "data": {
      "image/png": "[encoded data removed]",
      "text/plain": [
       "<Figure size 432x288 with 1 Axes>"
      ]
     },
     "metadata": {
      "needs_background": "light"
     },
     "output_type": "display_data"
    }
   ],
   "source": [
    "non_stationary_plot(coefficients, labels=['Загрузка', 'Простой'])"
   ]
  }
 ],
 "metadata": {
  "kernelspec": {
   "display_name": "Python 3",
   "language": "python",
   "name": "python3"
  },
  "language_info": {
   "codemirror_mode": {
    "name": "ipython",
    "version": 3
   },
   "file_extension": ".py",
   "mimetype": "text/x-python",
   "name": "python",
   "nbconvert_exporter": "python",
   "pygments_lexer": "ipython3",
   "version": "3.7.2"
  }
 },
 "nbformat": 4,
 "nbformat_minor": 1
}
